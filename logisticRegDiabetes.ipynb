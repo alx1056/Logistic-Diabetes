{
  "nbformat": 4,
  "nbformat_minor": 0,
  "metadata": {
    "colab": {
      "name": "logisticRegDiabetes.ipynb",
      "provenance": [],
      "collapsed_sections": [],
      "authorship_tag": "ABX9TyOuADM+1+RGOHcmybzdz+16",
      "include_colab_link": true
    },
    "kernelspec": {
      "name": "python3",
      "display_name": "Python 3"
    }
  },
  "cells": [
    {
      "cell_type": "markdown",
      "metadata": {
        "id": "view-in-github",
        "colab_type": "text"
      },
      "source": [
        "<a href=\"https://colab.research.google.com/github/alx1056/Logistic-Diabetes/blob/main/logisticRegDiabetes.ipynb\" target=\"_parent\"><img src=\"https://colab.research.google.com/assets/colab-badge.svg\" alt=\"Open In Colab\"/></a>"
      ]
    },
    {
      "cell_type": "code",
      "metadata": {
        "id": "bhk2Z_auiTi4"
      },
      "source": [
        "import pandas as pd\r\n",
        "import numpy as np\r\n",
        "import matplotlib.pyplot as plt\r\n",
        "import missingno as mn\r\n",
        "import random\r\n",
        "import statistics\r\n",
        "from sklearn import metrics\r\n",
        "%matplotlib inline"
      ],
      "execution_count": 119,
      "outputs": []
    },
    {
      "cell_type": "code",
      "metadata": {
        "colab": {
          "base_uri": "https://localhost:8080/",
          "height": 214
        },
        "id": "eulI4_Xciodh",
        "outputId": "19fdd64c-3f0e-40a0-c981-9e1ae1e43403"
      },
      "source": [
        "data = pd.read_csv(\"/content/diabetes2.csv\")\r\n",
        "data.head(5)"
      ],
      "execution_count": null,
      "outputs": [
        {
          "output_type": "execute_result",
          "data": {
            "text/html": [
              "<div>\n",
              "<style scoped>\n",
              "    .dataframe tbody tr th:only-of-type {\n",
              "        vertical-align: middle;\n",
              "    }\n",
              "\n",
              "    .dataframe tbody tr th {\n",
              "        vertical-align: top;\n",
              "    }\n",
              "\n",
              "    .dataframe thead th {\n",
              "        text-align: right;\n",
              "    }\n",
              "</style>\n",
              "<table border=\"1\" class=\"dataframe\">\n",
              "  <thead>\n",
              "    <tr style=\"text-align: right;\">\n",
              "      <th></th>\n",
              "      <th>Pregnancies</th>\n",
              "      <th>Glucose</th>\n",
              "      <th>BloodPressure</th>\n",
              "      <th>SkinThickness</th>\n",
              "      <th>Insulin</th>\n",
              "      <th>BMI</th>\n",
              "      <th>DiabetesPedigreeFunction</th>\n",
              "      <th>Age</th>\n",
              "      <th>Outcome</th>\n",
              "    </tr>\n",
              "  </thead>\n",
              "  <tbody>\n",
              "    <tr>\n",
              "      <th>0</th>\n",
              "      <td>6</td>\n",
              "      <td>148</td>\n",
              "      <td>72</td>\n",
              "      <td>35</td>\n",
              "      <td>0</td>\n",
              "      <td>33.6</td>\n",
              "      <td>0.627</td>\n",
              "      <td>50</td>\n",
              "      <td>1</td>\n",
              "    </tr>\n",
              "    <tr>\n",
              "      <th>1</th>\n",
              "      <td>1</td>\n",
              "      <td>85</td>\n",
              "      <td>66</td>\n",
              "      <td>29</td>\n",
              "      <td>0</td>\n",
              "      <td>26.6</td>\n",
              "      <td>0.351</td>\n",
              "      <td>31</td>\n",
              "      <td>0</td>\n",
              "    </tr>\n",
              "    <tr>\n",
              "      <th>2</th>\n",
              "      <td>8</td>\n",
              "      <td>183</td>\n",
              "      <td>64</td>\n",
              "      <td>0</td>\n",
              "      <td>0</td>\n",
              "      <td>23.3</td>\n",
              "      <td>0.672</td>\n",
              "      <td>32</td>\n",
              "      <td>1</td>\n",
              "    </tr>\n",
              "    <tr>\n",
              "      <th>3</th>\n",
              "      <td>1</td>\n",
              "      <td>89</td>\n",
              "      <td>66</td>\n",
              "      <td>23</td>\n",
              "      <td>94</td>\n",
              "      <td>28.1</td>\n",
              "      <td>0.167</td>\n",
              "      <td>21</td>\n",
              "      <td>0</td>\n",
              "    </tr>\n",
              "    <tr>\n",
              "      <th>4</th>\n",
              "      <td>0</td>\n",
              "      <td>137</td>\n",
              "      <td>40</td>\n",
              "      <td>35</td>\n",
              "      <td>168</td>\n",
              "      <td>43.1</td>\n",
              "      <td>2.288</td>\n",
              "      <td>33</td>\n",
              "      <td>1</td>\n",
              "    </tr>\n",
              "  </tbody>\n",
              "</table>\n",
              "</div>"
            ],
            "text/plain": [
              "   Pregnancies  Glucose  BloodPressure  ...  DiabetesPedigreeFunction  Age  Outcome\n",
              "0            6      148             72  ...                     0.627   50        1\n",
              "1            1       85             66  ...                     0.351   31        0\n",
              "2            8      183             64  ...                     0.672   32        1\n",
              "3            1       89             66  ...                     0.167   21        0\n",
              "4            0      137             40  ...                     2.288   33        1\n",
              "\n",
              "[5 rows x 9 columns]"
            ]
          },
          "metadata": {
            "tags": []
          },
          "execution_count": 32
        }
      ]
    },
    {
      "cell_type": "code",
      "metadata": {
        "colab": {
          "base_uri": "https://localhost:8080/"
        },
        "id": "25jbZ1qFirTU",
        "outputId": "4965609c-b13a-4709-8904-8d1d1509773a"
      },
      "source": [
        "data.info()"
      ],
      "execution_count": null,
      "outputs": [
        {
          "output_type": "stream",
          "text": [
            "<class 'pandas.core.frame.DataFrame'>\n",
            "RangeIndex: 768 entries, 0 to 767\n",
            "Data columns (total 9 columns):\n",
            " #   Column                    Non-Null Count  Dtype  \n",
            "---  ------                    --------------  -----  \n",
            " 0   Pregnancies               768 non-null    int64  \n",
            " 1   Glucose                   768 non-null    int64  \n",
            " 2   BloodPressure             768 non-null    int64  \n",
            " 3   SkinThickness             768 non-null    int64  \n",
            " 4   Insulin                   768 non-null    int64  \n",
            " 5   BMI                       768 non-null    float64\n",
            " 6   DiabetesPedigreeFunction  768 non-null    float64\n",
            " 7   Age                       768 non-null    int64  \n",
            " 8   Outcome                   768 non-null    int64  \n",
            "dtypes: float64(2), int64(7)\n",
            "memory usage: 54.1 KB\n"
          ],
          "name": "stdout"
        }
      ]
    },
    {
      "cell_type": "code",
      "metadata": {
        "colab": {
          "base_uri": "https://localhost:8080/",
          "height": 519
        },
        "id": "xwf5BZDWi32D",
        "outputId": "55087ce1-52d5-4f4e-bde4-5c494b941fc8"
      },
      "source": [
        "corr = data.corr()\r\n",
        "ax = sns.heatmap(\r\n",
        "    corr, \r\n",
        "    vmin=-1, vmax=1, center=0,\r\n",
        "    cmap=sns.diverging_palette(20, 220, n=200),\r\n",
        "    square=True\r\n",
        ")\r\n",
        "ax.set_xticklabels(\r\n",
        "    ax.get_xticklabels(),\r\n",
        "    rotation=45,\r\n",
        "    horizontalalignment='right'\r\n",
        ")"
      ],
      "execution_count": null,
      "outputs": [
        {
          "output_type": "execute_result",
          "data": {
            "text/plain": [
              "[Text(0.5, 0, 'Pregnancies'),\n",
              " Text(1.5, 0, 'Glucose'),\n",
              " Text(2.5, 0, 'BloodPressure'),\n",
              " Text(3.5, 0, 'SkinThickness'),\n",
              " Text(4.5, 0, 'Insulin'),\n",
              " Text(5.5, 0, 'BMI'),\n",
              " Text(6.5, 0, 'DiabetesPedigreeFunction'),\n",
              " Text(7.5, 0, 'Age'),\n",
              " Text(8.5, 0, 'Outcome')]"
            ]
          },
          "metadata": {
            "tags": []
          },
          "execution_count": 22
        },
        {
          "output_type": "display_data",
          "data": {
            "image/png": "[encoded data removed]",
            "text/plain": [
              "<Figure size 432x288 with 2 Axes>"
            ]
          },
          "metadata": {
            "tags": [],
            "needs_background": "light"
          }
        }
      ]
    },
    {
      "cell_type": "code",
      "metadata": {
        "colab": {
          "base_uri": "https://localhost:8080/",
          "height": 789
        },
        "id": "0n9BEzv1i5AV",
        "outputId": "e8e58fe6-a760-4d6b-c350-f31b7433a95b"
      },
      "source": [
        "mn.matrix(data)"
      ],
      "execution_count": null,
      "outputs": [
        {
          "output_type": "execute_result",
          "data": {
            "text/plain": [
              "<matplotlib.axes._subplots.AxesSubplot at 0x7eff469a2a90>"
            ]
          },
          "metadata": {
            "tags": []
          },
          "execution_count": 37
        },
        {
          "output_type": "display_data",
          "data": {
            "image/png": "[encoded data removed]",
            "text/plain": [
              "<Figure size 1800x720 with 2 Axes>"
            ]
          },
          "metadata": {
            "tags": [],
            "needs_background": "light"
          }
        }
      ]
    },
    {
      "cell_type": "code",
      "metadata": {
        "colab": {
          "base_uri": "https://localhost:8080/"
        },
        "id": "g4L9l1n8lVc9",
        "outputId": "83f1bbe3-5ad3-41eb-e184-0f0f13cbd1af"
      },
      "source": [
        "data.columns"
      ],
      "execution_count": null,
      "outputs": [
        {
          "output_type": "execute_result",
          "data": {
            "text/plain": [
              "Index(['Pregnancies', 'Glucose', 'BloodPressure', 'SkinThickness', 'Insulin',\n",
              "       'BMI', 'DiabetesPedigreeFunction', 'Age', 'Outcome'],\n",
              "      dtype='object')"
            ]
          },
          "metadata": {
            "tags": []
          },
          "execution_count": 38
        }
      ]
    },
    {
      "cell_type": "code",
      "metadata": {
        "id": "RGH2uHdglJLA"
      },
      "source": [
        "from sklearn.model_selection import train_test_split\r\n",
        "\r\n",
        "X = data[['Glucose', 'BloodPressure', 'SkinThickness', 'Insulin',\r\n",
        "       'BMI', 'DiabetesPedigreeFunction', 'Age']]\r\n",
        "y = data['Outcome']\r\n",
        "\r\n",
        "X_train, X_test, y_train, y_test = train_test_split(X, y, test_size=0.3)"
      ],
      "execution_count": null,
      "outputs": []
    },
    {
      "cell_type": "code",
      "metadata": {
        "colab": {
          "base_uri": "https://localhost:8080/"
        },
        "id": "QRHEnusylvLR",
        "outputId": "812d6499-d34a-40d0-be1a-9bd38bb454d6"
      },
      "source": [
        "from sklearn.linear_model import LogisticRegression\r\n",
        "logmodel = LogisticRegression()\r\n",
        "\r\n",
        "logmodel.fit(X_train, y_train)"
      ],
      "execution_count": null,
      "outputs": [
        {
          "output_type": "execute_result",
          "data": {
            "text/plain": [
              "LogisticRegression(C=1.0, class_weight=None, dual=False, fit_intercept=True,\n",
              "                   intercept_scaling=1, l1_ratio=None, max_iter=100,\n",
              "                   multi_class='auto', n_jobs=None, penalty='l2',\n",
              "                   random_state=None, solver='lbfgs', tol=0.0001, verbose=0,\n",
              "                   warm_start=False)"
            ]
          },
          "metadata": {
            "tags": []
          },
          "execution_count": 49
        }
      ]
    },
    {
      "cell_type": "code",
      "metadata": {
        "id": "fWErh3J-lyZS"
      },
      "source": [
        "predictions = logmodel.predict(X_test)"
      ],
      "execution_count": null,
      "outputs": []
    },
    {
      "cell_type": "code",
      "metadata": {
        "colab": {
          "base_uri": "https://localhost:8080/"
        },
        "id": "BSm1AJaxl7T4",
        "outputId": "e7284182-6d59-4e11-9d0b-95c7f1d5f1f0"
      },
      "source": [
        "print(str(data['Glucose'].max()) + \" Is Max Glucose level\")\r\n",
        "print(str(data['Glucose'].min()) + \" Is Min Glucose level\")\r\n",
        "print(\"\\n\")\r\n",
        "print(str(data['BloodPressure'].max()) + \" Is Max BP level\")\r\n",
        "print(str(data['BloodPressure'].min()) + \" Is Min BP level\")\r\n",
        "print(\"\\n\")\r\n",
        "print(str(data['SkinThickness'].max()) + \" Is Max Skin Thickness level\")\r\n",
        "print(str(data['SkinThickness'].min()) + \" Is Min Skin Thickness level\")\r\n",
        "print(\"\\n\")\r\n",
        "print(str(data['Insulin'].max()) + \" Is Max Insulin level\")\r\n",
        "print(str(data['Insulin'].min()) + \" Is Min Insulin level\")\r\n",
        "print(\"\\n\")\r\n",
        "print(str(data['BMI'].max()) + \" Is Max BMI level\")\r\n",
        "print(str(data['BMI'].min()) + \" Is Min BMI level\")\r\n",
        "print(\"\\n\")\r\n",
        "print(str(data['DiabetesPedigreeFunction'].max()) + \" Is Max Diabetes Pedigree Function level\")\r\n",
        "print(str(data['DiabetesPedigreeFunction'].min()) + \" Is Min Diabetes Pedigree Function level\")\r\n",
        "print(\"\\n\")\r\n",
        "print(str(data['Age'].max()) + \" Is Max Age\")\r\n",
        "print(str(data['Age'].min()) + \" Is Min Age\")"
      ],
      "execution_count": null,
      "outputs": [
        {
          "output_type": "stream",
          "text": [
            "199 Is Max Glucose level\n",
            "0 Is Min Glucose level\n",
            "\n",
            "\n",
            "122 Is Max BP level\n",
            "0 Is Min BP level\n",
            "\n",
            "\n",
            "99 Is Max Skin Thickness level\n",
            "0 Is Min Skin Thickness level\n",
            "\n",
            "\n",
            "846 Is Max Insulin level\n",
            "0 Is Min Insulin level\n",
            "\n",
            "\n",
            "67.1 Is Max BMI level\n",
            "0.0 Is Min BMI level\n",
            "\n",
            "\n",
            "2.42 Is Max Diabetes Pedigree Function level\n",
            "0.078 Is Min Diabetes Pedigree Function level\n",
            "\n",
            "\n",
            "81 Is Max Age\n",
            "21 Is Min Age\n"
          ],
          "name": "stdout"
        }
      ]
    },
    {
      "cell_type": "code",
      "metadata": {
        "id": "Uq5J8YT7ngUd"
      },
      "source": [
        "def pred():\r\n",
        "  Glucose = float(input(\"Please enter Glucose level (0-200): \"))\r\n",
        "  BP = float(input(\"Please enter BP level (0-150): \"))\r\n",
        "  SkinThick = float(input(\"Please enter Skin Thickness level (0-100): \"))\r\n",
        "  Insulin = float(input(\"Please enter Insulin level (0-900): \"))\r\n",
        "  BMI = float(input(\"Please enter BP level (0-70): \"))\r\n",
        "  DPF = float(input(\"Please enter Skin Thickness level (0-3.00): \"))\r\n",
        "  Age = float(input(\"Please enter Age (0-90): \"))\r\n",
        "\r\n",
        "  p = [[Glucose, BP, SkinThick, Insulin, BMI, DPF, Age]]\r\n",
        "\r\n",
        "  value = logmodel.predict(p)\r\n",
        "  if value == [[0]]: \r\n",
        "    print(\"Not Likely Diabetic\")\r\n",
        "  else:\r\n",
        "    print(\"Likely Diabetic\")"
      ],
      "execution_count": null,
      "outputs": []
    },
    {
      "cell_type": "code",
      "metadata": {
        "colab": {
          "base_uri": "https://localhost:8080/"
        },
        "id": "4wnx82YOl7bo",
        "outputId": "28f76656-20d3-417b-c098-b6270cbff7a1"
      },
      "source": [
        "#will allow users to enter their own data to see if they are diabetic based on the model\r\n",
        "pred()"
      ],
      "execution_count": null,
      "outputs": [
        {
          "output_type": "stream",
          "text": [
            "Please enter Glucose level (0-200): 200\n",
            "Please enter BP level (0-150): 100\n",
            "Please enter Skin Thickness level (0-100): 100\n",
            "Please enter Insulin level (0-900): 00\n",
            "Please enter BP level (0-70): 40\n",
            "Please enter Skin Thickness level (0-3.00): 2\n",
            "Please enter Age (0-90): 40\n",
            "Likely Diabetic\n"
          ],
          "name": "stdout"
        }
      ]
    },
    {
      "cell_type": "code",
      "metadata": {
        "colab": {
          "base_uri": "https://localhost:8080/"
        },
        "id": "YxteS7vLl4gs",
        "outputId": "bff5bba6-2ddb-4278-d08f-447aea2d174d"
      },
      "source": [
        "from sklearn.metrics import classification_report\r\n",
        "print(classification_report(y_test, predictions))"
      ],
      "execution_count": null,
      "outputs": [
        {
          "output_type": "stream",
          "text": [
            "              precision    recall  f1-score   support\n",
            "\n",
            "           0       0.84      0.88      0.86       154\n",
            "           1       0.74      0.66      0.70        77\n",
            "\n",
            "    accuracy                           0.81       231\n",
            "   macro avg       0.79      0.77      0.78       231\n",
            "weighted avg       0.81      0.81      0.81       231\n",
            "\n"
          ],
          "name": "stdout"
        }
      ]
    },
    {
      "cell_type": "code",
      "metadata": {
        "colab": {
          "base_uri": "https://localhost:8080/"
        },
        "id": "YmYN8inzujbP",
        "outputId": "8d91e501-35e0-4193-8cd4-d13d96805a56"
      },
      "source": [
        "logmodel.fit(X_train, y_train)\r\n",
        "print (\"Accuracy on training set:\")\r\n",
        "print (logmodel.score(X_train, y_train))\r\n",
        "print (\"Accuracy on testing set:\")\r\n",
        "print (logmodel.score(X_test, y_test))\r\n",
        "print(\"\\n\")\r\n",
        "print('MAE:', metrics.mean_absolute_error(y_test, predictions))\r\n",
        "print('MSE:', metrics.mean_squared_error(y_test, predictions))\r\n",
        "print('RMSE:', np.sqrt(metrics.mean_squared_error(y_test, predictions)))"
      ],
      "execution_count": 122,
      "outputs": [
        {
          "output_type": "stream",
          "text": [
            "Accuracy on training set:\n",
            "0.750465549348231\n",
            "Accuracy on testing set:\n",
            "0.8095238095238095\n",
            "\n",
            "\n",
            "MAE: 0.19047619047619047\n",
            "MSE: 0.19047619047619047\n",
            "RMSE: 0.4364357804719847\n"
          ],
          "name": "stdout"
        }
      ]
    }
  ]
}